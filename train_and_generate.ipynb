{
 "cells": [
  {
   "cell_type": "code",
   "execution_count": null,
   "metadata": {},
   "outputs": [],
   "source": []
  },
  {
   "cell_type": "code",
   "execution_count": 1,
   "metadata": {},
   "outputs": [
    {
     "name": "stdout",
     "output_type": "stream",
     "text": [
      "pygame 2.5.2 (SDL 2.28.3, Python 3.11.7)\n",
      "Hello from the pygame community. https://www.pygame.org/contribute.html\n"
     ]
    }
   ],
   "source": [
    "import glob\n",
    "import pickle\n",
    "import numpy as np\n",
    "from music21 import converter, instrument, note, chord, stream\n",
    "import torch\n",
    "import torch.nn as nn\n",
    "import torch.optim as optim\n",
    "from torch.utils.data import Dataset, DataLoader\n",
    "import pygame\n",
    "\n",
    "path = 'model_weights.pt'"
   ]
  },
  {
   "cell_type": "code",
   "execution_count": 3,
   "metadata": {},
   "outputs": [],
   "source": [
    "def get_notes():\n",
    "    notes = []\n",
    "    for file in glob.glob(\"classical_midi_data/*.mid\"):\n",
    "        midi = converter.parse(file)\n",
    "\n",
    "        print(\"Parsing %s\" % file)\n",
    "\n",
    "        notes_to_parse = None\n",
    "\n",
    "        try:\n",
    "            s2 = instrument.partitionByInstrument(midi)\n",
    "            notes_to_parse = s2.parts[0].recurse() \n",
    "        except: # file has notes in a flat structure\n",
    "            notes_to_parse = midi.flat.notes\n",
    "\n",
    "        for element in notes_to_parse:\n",
    "            if isinstance(element, note.Note):\n",
    "                notes.append(str(element.pitch))\n",
    "            elif isinstance(element, chord.Chord):\n",
    "                notes.append('.'.join(str(n) for n in element.normalOrder))\n",
    "\n",
    "    with open('data/notes', 'wb') as filepath:\n",
    "        pickle.dump(notes, filepath)\n",
    "\n",
    "    return notes"
   ]
  },
  {
   "cell_type": "code",
   "execution_count": 4,
   "metadata": {},
   "outputs": [
    {
     "name": "stderr",
     "output_type": "stream",
     "text": [
      "/Library/Frameworks/Python.framework/Versions/3.11/lib/python3.11/site-packages/music21/midi/translate.py:874: TranslateWarning: Unable to determine instrument from <music21.midi.MidiEvent SEQUENCE_TRACK_NAME, track=5, channel=None, data=b'Copyright \\xa9 2010 by Bernd Krueger'>; getting generic Instrument\n",
      "  warnings.warn(\n"
     ]
    },
    {
     "name": "stdout",
     "output_type": "stream",
     "text": [
      "Parsing classical_midi_data/haydn_43_1.mid\n"
     ]
    },
    {
     "name": "stderr",
     "output_type": "stream",
     "text": [
      "/Library/Frameworks/Python.framework/Versions/3.11/lib/python3.11/site-packages/music21/midi/translate.py:874: TranslateWarning: Unable to determine instrument from <music21.midi.MidiEvent SEQUENCE_TRACK_NAME, track=6, channel=None, data=b'Copyright \\xa9 2000 by Bernd Kr\\xfcger'>; getting generic Instrument\n",
      "  warnings.warn(\n"
     ]
    },
    {
     "name": "stdout",
     "output_type": "stream",
     "text": [
      "Parsing classical_midi_data/muss_2.mid\n"
     ]
    },
    {
     "name": "stderr",
     "output_type": "stream",
     "text": [
      "/Library/Frameworks/Python.framework/Versions/3.11/lib/python3.11/site-packages/music21/midi/translate.py:874: TranslateWarning: Unable to determine instrument from <music21.midi.MidiEvent SEQUENCE_TRACK_NAME, track=5, channel=None, data=b'Copyright \\xa9 2003 by Bernd Krueger'>; getting generic Instrument\n",
      "  warnings.warn(\n"
     ]
    },
    {
     "name": "stdout",
     "output_type": "stream",
     "text": [
      "Parsing classical_midi_data/waldstein_1.mid\n"
     ]
    },
    {
     "name": "stderr",
     "output_type": "stream",
     "text": [
      "/Library/Frameworks/Python.framework/Versions/3.11/lib/python3.11/site-packages/music21/midi/translate.py:874: TranslateWarning: Unable to determine instrument from <music21.midi.MidiEvent SEQUENCE_TRACK_NAME, track=4, channel=None, data=b'Copyright \\xa9 1999 by Bernd Krueger'>; getting generic Instrument\n",
      "  warnings.warn(\n"
     ]
    },
    {
     "name": "stdout",
     "output_type": "stream",
     "text": [
      "Parsing classical_midi_data/schumm-1.mid\n"
     ]
    },
    {
     "name": "stderr",
     "output_type": "stream",
     "text": [
      "/Library/Frameworks/Python.framework/Versions/3.11/lib/python3.11/site-packages/music21/midi/translate.py:874: TranslateWarning: Unable to determine instrument from <music21.midi.MidiEvent SEQUENCE_TRACK_NAME, track=4, channel=None, data=b'Copyright \\xa9 2003 by Bernd Krueger'>; getting generic Instrument\n",
      "  warnings.warn(\n"
     ]
    },
    {
     "name": "stdout",
     "output_type": "stream",
     "text": [
      "Parsing classical_midi_data/chpn_op23.mid\n"
     ]
    },
    {
     "name": "stderr",
     "output_type": "stream",
     "text": [
      "/Library/Frameworks/Python.framework/Versions/3.11/lib/python3.11/site-packages/music21/midi/translate.py:874: TranslateWarning: Unable to determine instrument from <music21.midi.MidiEvent SEQUENCE_TRACK_NAME, track=4, channel=None, data=b'Copyright \\xa9 2002 by Bernd Krueger'>; getting generic Instrument\n",
      "  warnings.warn(\n"
     ]
    },
    {
     "name": "stdout",
     "output_type": "stream",
     "text": [
      "Parsing classical_midi_data/chpn-p19.mid\n",
      "Parsing classical_midi_data/chpn_op7_2.mid\n",
      "Parsing classical_midi_data/beethoven_opus90_2.mid\n",
      "Parsing classical_midi_data/chpn-p18.mid\n",
      "Parsing classical_midi_data/chpn-p24.mid\n"
     ]
    },
    {
     "name": "stderr",
     "output_type": "stream",
     "text": [
      "/Library/Frameworks/Python.framework/Versions/3.11/lib/python3.11/site-packages/music21/midi/translate.py:874: TranslateWarning: Unable to determine instrument from <music21.midi.MidiEvent SEQUENCE_TRACK_NAME, track=6, channel=None, data=b'Copyright \\xa9 2010 by Bernd Krueger'>; getting generic Instrument\n",
      "  warnings.warn(\n"
     ]
    },
    {
     "name": "stdout",
     "output_type": "stream",
     "text": [
      "Parsing classical_midi_data/mendel_op19_1.mid\n"
     ]
    },
    {
     "name": "stderr",
     "output_type": "stream",
     "text": [
      "/Library/Frameworks/Python.framework/Versions/3.11/lib/python3.11/site-packages/music21/midi/translate.py:874: TranslateWarning: Unable to determine instrument from <music21.midi.MidiEvent SEQUENCE_TRACK_NAME, track=5, channel=None, data=b'Copyright \\xa9 2000 by Bernd Kr\\xfcger'>; getting generic Instrument\n",
      "  warnings.warn(\n"
     ]
    },
    {
     "name": "stdout",
     "output_type": "stream",
     "text": [
      "Parsing classical_midi_data/muss_3.mid\n",
      "Parsing classical_midi_data/haydn_43_2.mid\n",
      "Parsing classical_midi_data/muss_1.mid\n"
     ]
    },
    {
     "name": "stderr",
     "output_type": "stream",
     "text": [
      "/Library/Frameworks/Python.framework/Versions/3.11/lib/python3.11/site-packages/music21/midi/translate.py:874: TranslateWarning: Unable to determine instrument from <music21.midi.MidiEvent SEQUENCE_TRACK_NAME, track=5, channel=None, data=b'Copyright \\xa9 2012 by Bernd Kr\\xfcger'>; getting generic Instrument\n",
      "  warnings.warn(\n"
     ]
    },
    {
     "name": "stdout",
     "output_type": "stream",
     "text": [
      "Parsing classical_midi_data/burg_sylphen.mid\n",
      "Parsing classical_midi_data/waldstein_2.mid\n"
     ]
    },
    {
     "name": "stderr",
     "output_type": "stream",
     "text": [
      "/Library/Frameworks/Python.framework/Versions/3.11/lib/python3.11/site-packages/music21/midi/translate.py:874: TranslateWarning: Unable to determine instrument from <music21.midi.MidiEvent SEQUENCE_TRACK_NAME, track=4, channel=None, data=b'Copyright \\xa9 1997 by Bernd Krueger'>; getting generic Instrument\n",
      "  warnings.warn(\n"
     ]
    },
    {
     "name": "stdout",
     "output_type": "stream",
     "text": [
      "Parsing classical_midi_data/schumm-2.mid\n"
     ]
    },
    {
     "name": "stderr",
     "output_type": "stream",
     "text": [
      "/Library/Frameworks/Python.framework/Versions/3.11/lib/python3.11/site-packages/music21/midi/translate.py:874: TranslateWarning: Unable to determine instrument from <music21.midi.MidiEvent SEQUENCE_TRACK_NAME, track=4, channel=None, data=b'Copyright \\xa9 2004 by Bernd Kr\\xfcger'>; getting generic Instrument\n",
      "  warnings.warn(\n"
     ]
    },
    {
     "name": "stdout",
     "output_type": "stream",
     "text": [
      "Parsing classical_midi_data/burg_quelle.mid\n"
     ]
    },
    {
     "name": "stderr",
     "output_type": "stream",
     "text": [
      "/Library/Frameworks/Python.framework/Versions/3.11/lib/python3.11/site-packages/music21/midi/translate.py:874: TranslateWarning: Unable to determine instrument from <music21.midi.MidiEvent SEQUENCE_TRACK_NAME, track=0, channel=None, data=b'J\\xe4gerlied'>; getting generic Instrument\n",
      "  warnings.warn(\n"
     ]
    },
    {
     "name": "stdout",
     "output_type": "stream",
     "text": [
      "Parsing classical_midi_data/mendel_op19_3.mid\n"
     ]
    },
    {
     "name": "stderr",
     "output_type": "stream",
     "text": [
      "/Library/Frameworks/Python.framework/Versions/3.11/lib/python3.11/site-packages/music21/midi/translate.py:874: TranslateWarning: Unable to determine instrument from <music21.midi.MidiEvent SEQUENCE_TRACK_NAME, track=4, channel=None, data=b'Copyright \\xa9 2002 by Bernd Kr\\xfcger'>; getting generic Instrument\n",
      "  warnings.warn(\n"
     ]
    },
    {
     "name": "stdout",
     "output_type": "stream",
     "text": [
      "Parsing classical_midi_data/schub_d960_4.mid\n",
      "Parsing classical_midi_data/chpn_op7_1.mid\n",
      "Parsing classical_midi_data/schum_abegg.mid\n"
     ]
    },
    {
     "name": "stderr",
     "output_type": "stream",
     "text": [
      "/Library/Frameworks/Python.framework/Versions/3.11/lib/python3.11/site-packages/music21/midi/translate.py:874: TranslateWarning: Unable to determine instrument from <music21.midi.MidiEvent SEQUENCE_TRACK_NAME, track=4, channel=None, data=b'Copyright \\xa9 2001 by Bernd Kr\\xfcger'>; getting generic Instrument\n",
      "  warnings.warn(\n"
     ]
    },
    {
     "name": "stdout",
     "output_type": "stream",
     "text": [
      "Parsing classical_midi_data/gra_esp_4.mid\n",
      "Parsing classical_midi_data/beethoven_opus90_1.mid\n",
      "Parsing classical_midi_data/mendel_op19_2.mid\n",
      "Parsing classical_midi_data/schumm-3.mid\n"
     ]
    },
    {
     "name": "stderr",
     "output_type": "stream",
     "text": [
      "/Library/Frameworks/Python.framework/Versions/3.11/lib/python3.11/site-packages/music21/midi/translate.py:874: TranslateWarning: Unable to determine instrument from <music21.midi.MidiEvent SEQUENCE_TRACK_NAME, track=6, channel=None, data=b'Copyright \\xa9 2003 by Bernd Krueger'>; getting generic Instrument\n",
      "  warnings.warn(\n"
     ]
    },
    {
     "name": "stdout",
     "output_type": "stream",
     "text": [
      "Parsing classical_midi_data/waldstein_3.mid\n"
     ]
    },
    {
     "name": "stderr",
     "output_type": "stream",
     "text": [
      "/Library/Frameworks/Python.framework/Versions/3.11/lib/python3.11/site-packages/music21/midi/translate.py:874: TranslateWarning: Unable to determine instrument from <music21.midi.MidiEvent SEQUENCE_TRACK_NAME, track=5, channel=None, data=b'Copyright \\xa9 2009 by Bernd Krueger'>; getting generic Instrument\n",
      "  warnings.warn(\n"
     ]
    },
    {
     "name": "stdout",
     "output_type": "stream",
     "text": [
      "Parsing classical_midi_data/haydn_8_4.mid\n",
      "Parsing classical_midi_data/haydn_43_3.mid\n",
      "Parsing classical_midi_data/muss_4.mid\n",
      "Parsing classical_midi_data/scn68_10.mid\n"
     ]
    },
    {
     "name": "stderr",
     "output_type": "stream",
     "text": [
      "/Library/Frameworks/Python.framework/Versions/3.11/lib/python3.11/site-packages/music21/midi/translate.py:874: TranslateWarning: Unable to determine instrument from <music21.midi.MidiEvent SEQUENCE_TRACK_NAME, track=0, channel=None, data=b'Schumann:   Fr\\xf6hlicher Landmann, von der Arbeit zur\\xfcckkehrend'>; getting generic Instrument\n",
      "  warnings.warn(\n",
      "/Library/Frameworks/Python.framework/Versions/3.11/lib/python3.11/site-packages/music21/midi/translate.py:874: TranslateWarning: Unable to determine instrument from <music21.midi.MidiEvent SEQUENCE_TRACK_NAME, track=0, channel=None, data=b'aus Album f\\xfcr die Jugend Opus 68, Nr. 10'>; getting generic Instrument\n",
      "  warnings.warn(\n",
      "/Library/Frameworks/Python.framework/Versions/3.11/lib/python3.11/site-packages/music21/midi/translate.py:874: TranslateWarning: Unable to determine instrument from <music21.midi.MidiEvent SEQUENCE_TRACK_NAME, track=4, channel=None, data=b'Schumann: Fr\\xf6hlicher Landmann'>; getting generic Instrument\n",
      "  warnings.warn(\n",
      "/Library/Frameworks/Python.framework/Versions/3.11/lib/python3.11/site-packages/music21/midi/translate.py:874: TranslateWarning: Unable to determine instrument from <music21.midi.MidiEvent SEQUENCE_TRACK_NAME, track=5, channel=None, data=b'Copyright \\xa9 2008 by Bernd Krueger'>; getting generic Instrument\n",
      "  warnings.warn(\n"
     ]
    },
    {
     "name": "stdout",
     "output_type": "stream",
     "text": [
      "Parsing classical_midi_data/scn15_10.mid\n",
      "Parsing classical_midi_data/mendel_op19_6.mid\n"
     ]
    },
    {
     "name": "stderr",
     "output_type": "stream",
     "text": [
      "/Library/Frameworks/Python.framework/Versions/3.11/lib/python3.11/site-packages/music21/midi/translate.py:874: TranslateWarning: Unable to determine instrument from <music21.midi.MidiEvent SEQUENCE_TRACK_NAME, track=5, channel=None, data=b'Copyright \\xa9 2002 by Bernd Kr\\xfcger'>; getting generic Instrument\n",
      "  warnings.warn(\n"
     ]
    },
    {
     "name": "stdout",
     "output_type": "stream",
     "text": [
      "Parsing classical_midi_data/schub_d960_1.mid\n",
      "Parsing classical_midi_data/chpn-p23.mid\n",
      "Parsing classical_midi_data/chpn-p9.mid\n"
     ]
    },
    {
     "name": "stderr",
     "output_type": "stream",
     "text": [
      "/Library/Frameworks/Python.framework/Versions/3.11/lib/python3.11/site-packages/music21/midi/translate.py:874: TranslateWarning: Unable to determine instrument from <music21.midi.MidiEvent SEQUENCE_TRACK_NAME, track=5, channel=None, data=b'Copyright \\xa9 1997 by Bernd Krueger'>; getting generic Instrument\n",
      "  warnings.warn(\n"
     ]
    },
    {
     "name": "stdout",
     "output_type": "stream",
     "text": [
      "Parsing classical_midi_data/burg_perlen.mid\n"
     ]
    },
    {
     "name": "stderr",
     "output_type": "stream",
     "text": [
      "/Library/Frameworks/Python.framework/Versions/3.11/lib/python3.11/site-packages/music21/midi/translate.py:874: TranslateWarning: Unable to determine instrument from <music21.midi.MidiEvent SEQUENCE_TRACK_NAME, track=5, channel=None, data=b'Copyright \\xa9 2007 by Bernd Krueger'>; getting generic Instrument\n",
      "  warnings.warn(\n"
     ]
    },
    {
     "name": "stdout",
     "output_type": "stream",
     "text": [
      "Parsing classical_midi_data/scn16_8.mid\n",
      "Parsing classical_midi_data/chpn-p8.mid\n",
      "Parsing classical_midi_data/chpn-p22.mid\n"
     ]
    },
    {
     "name": "stderr",
     "output_type": "stream",
     "text": [
      "/Library/Frameworks/Python.framework/Versions/3.11/lib/python3.11/site-packages/music21/midi/translate.py:874: TranslateWarning: Unable to determine instrument from <music21.midi.MidiEvent SEQUENCE_TRACK_NAME, track=5, channel=None, data=b'Copyright \\xa9 2005 by Bernd Kr\\xfcger'>; getting generic Instrument\n",
      "  warnings.warn(\n"
     ]
    },
    {
     "name": "stdout",
     "output_type": "stream",
     "text": [
      "Parsing classical_midi_data/liz_rhap09.mid\n",
      "Parsing classical_midi_data/schumm-6.mid\n",
      "Parsing classical_midi_data/haydn_8_1.mid\n"
     ]
    },
    {
     "name": "stderr",
     "output_type": "stream",
     "text": [
      "/Library/Frameworks/Python.framework/Versions/3.11/lib/python3.11/site-packages/music21/midi/translate.py:874: TranslateWarning: Unable to determine instrument from <music21.midi.MidiEvent SEQUENCE_TRACK_NAME, track=0, channel=None, data=b'F\\xfcrchtenmachen'>; getting generic Instrument\n",
      "  warnings.warn(\n"
     ]
    },
    {
     "name": "stdout",
     "output_type": "stream",
     "text": [
      "Parsing classical_midi_data/scn15_11.mid\n"
     ]
    },
    {
     "name": "stderr",
     "output_type": "stream",
     "text": [
      "/Library/Frameworks/Python.framework/Versions/3.11/lib/python3.11/site-packages/music21/midi/translate.py:874: TranslateWarning: Unable to determine instrument from <music21.midi.MidiEvent SEQUENCE_TRACK_NAME, track=0, channel=None, data=b'Promenade - Ballett der K\\xfcchlein  in ihren Eierschalen'>; getting generic Instrument\n",
      "  warnings.warn(\n"
     ]
    },
    {
     "name": "stdout",
     "output_type": "stream",
     "text": [
      "Parsing classical_midi_data/muss_5.mid\n",
      "Parsing classical_midi_data/muss_7.mid\n",
      "Parsing classical_midi_data/scn15_13.mid\n",
      "Parsing classical_midi_data/haydn_8_3.mid\n",
      "Parsing classical_midi_data/mendel_op19_5.mid\n",
      "Parsing classical_midi_data/schumm-4.mid\n",
      "Parsing classical_midi_data/chpn-p20.mid\n",
      "Parsing classical_midi_data/schub_d960_2.mid\n",
      "Parsing classical_midi_data/alb_se8.mid\n",
      "Parsing classical_midi_data/gra_esp_2.mid\n",
      "Parsing classical_midi_data/liz_et_trans8.mid\n",
      "Parsing classical_midi_data/gra_esp_3.mid\n",
      "Parsing classical_midi_data/schub_d960_3.mid\n",
      "Parsing classical_midi_data/chpn-p21.mid\n",
      "Parsing classical_midi_data/schumm-5.mid\n",
      "Parsing classical_midi_data/mendel_op19_4.mid\n",
      "Parsing classical_midi_data/haydn_8_2.mid\n",
      "Parsing classical_midi_data/scn15_12.mid\n"
     ]
    },
    {
     "name": "stderr",
     "output_type": "stream",
     "text": [
      "/Library/Frameworks/Python.framework/Versions/3.11/lib/python3.11/site-packages/music21/midi/translate.py:874: TranslateWarning: Unable to determine instrument from <music21.midi.MidiEvent SEQUENCE_TRACK_NAME, track=0, channel=None, data=b'Schumann: Knecht Ruprecht aus  Album f\\xfcr die Jugend Opus 68'>; getting generic Instrument\n",
      "  warnings.warn(\n"
     ]
    },
    {
     "name": "stdout",
     "output_type": "stream",
     "text": [
      "Parsing classical_midi_data/scn68_12.mid\n",
      "Parsing classical_midi_data/muss_6.mid\n",
      "Parsing classical_midi_data/ty_november.mid\n"
     ]
    },
    {
     "name": "stderr",
     "output_type": "stream",
     "text": [
      "/Library/Frameworks/Python.framework/Versions/3.11/lib/python3.11/site-packages/music21/midi/translate.py:874: TranslateWarning: Unable to determine instrument from <music21.midi.MidiEvent SEQUENCE_TRACK_NAME, track=4, channel=None, data=b'Copyright \\xa9 1997 by Bernd Kr\\xfcger'>; getting generic Instrument\n",
      "  warnings.warn(\n"
     ]
    },
    {
     "name": "stdout",
     "output_type": "stream",
     "text": [
      "Parsing classical_midi_data/chp_op18.mid\n",
      "Parsing classical_midi_data/chpn_op35_4.mid\n"
     ]
    },
    {
     "name": "stderr",
     "output_type": "stream",
     "text": [
      "/Library/Frameworks/Python.framework/Versions/3.11/lib/python3.11/site-packages/music21/midi/translate.py:874: TranslateWarning: Unable to determine instrument from <music21.midi.MidiEvent SEQUENCE_TRACK_NAME, track=5, channel=None, data=b'Copyright \\xa9 2006 by Bernd Krueger'>; getting generic Instrument\n",
      "  warnings.warn(\n"
     ]
    },
    {
     "name": "stdout",
     "output_type": "stream",
     "text": [
      "Parsing classical_midi_data/mz_570_1.mid\n",
      "Parsing classical_midi_data/chpn_op33_2.mid\n",
      "Parsing classical_midi_data/chp_op31.mid\n"
     ]
    },
    {
     "name": "stderr",
     "output_type": "stream",
     "text": [
      "/Library/Frameworks/Python.framework/Versions/3.11/lib/python3.11/site-packages/music21/midi/translate.py:874: TranslateWarning: Unable to determine instrument from <music21.midi.MidiEvent SEQUENCE_TRACK_NAME, track=4, channel=None, data=b'Copyright \\xa9 1998 by Bernd Kr\\xfcger'>; getting generic Instrument\n",
      "  warnings.warn(\n"
     ]
    },
    {
     "name": "stdout",
     "output_type": "stream",
     "text": [
      "Parsing classical_midi_data/deb_prel.mid\n",
      "Parsing classical_midi_data/ty_juni.mid\n",
      "Parsing classical_midi_data/mz_570_2.mid\n",
      "Parsing classical_midi_data/chpn_op25_e4.mid\n"
     ]
    },
    {
     "name": "stderr",
     "output_type": "stream",
     "text": [
      "/Library/Frameworks/Python.framework/Versions/3.11/lib/python3.11/site-packages/music21/midi/translate.py:874: TranslateWarning: Unable to determine instrument from <music21.midi.MidiEvent SEQUENCE_TRACK_NAME, track=5, channel=None, data=b'Copyright \\xa9 2004 by Bernd Kr\\xfcger'>; getting generic Instrument\n",
      "  warnings.warn(\n"
     ]
    },
    {
     "name": "stdout",
     "output_type": "stream",
     "text": [
      "Parsing classical_midi_data/burg_erwachen.mid\n",
      "Parsing classical_midi_data/mz_570_3.mid\n"
     ]
    },
    {
     "name": "stderr",
     "output_type": "stream",
     "text": [
      "/Library/Frameworks/Python.framework/Versions/3.11/lib/python3.11/site-packages/music21/midi/translate.py:874: TranslateWarning: Unable to determine instrument from <music21.midi.MidiEvent SEQUENCE_TRACK_NAME, track=4, channel=None, data=b'Copyright \\xa9 1996 by Bernd Krueger'>; getting generic Instrument\n",
      "  warnings.warn(\n"
     ]
    },
    {
     "name": "stdout",
     "output_type": "stream",
     "text": [
      "Parsing classical_midi_data/schuim-4.mid\n",
      "Parsing classical_midi_data/mendel_op62_3.mid\n",
      "Parsing classical_midi_data/ty_april.mid\n",
      "Parsing classical_midi_data/chpn_op35_2.mid\n",
      "Parsing classical_midi_data/scn15_8.mid\n",
      "Parsing classical_midi_data/beethoven_opus10_2.mid\n",
      "Parsing classical_midi_data/haydn_9_3.mid\n"
     ]
    },
    {
     "name": "stderr",
     "output_type": "stream",
     "text": [
      "/Library/Frameworks/Python.framework/Versions/3.11/lib/python3.11/site-packages/music21/midi/translate.py:874: TranslateWarning: Unable to determine instrument from <music21.midi.MidiEvent SEQUENCE_TRACK_NAME, track=5, channel=None, data=b'Copyright \\xa9 2002 by Bernd Krueger'>; getting generic Instrument\n",
      "  warnings.warn(\n"
     ]
    },
    {
     "name": "stdout",
     "output_type": "stream",
     "text": [
      "Parsing classical_midi_data/chpn_op25_e1.mid\n"
     ]
    },
    {
     "name": "stderr",
     "output_type": "stream",
     "text": [
      "/Library/Frameworks/Python.framework/Versions/3.11/lib/python3.11/site-packages/music21/midi/translate.py:874: TranslateWarning: Unable to determine instrument from <music21.midi.MidiEvent SEQUENCE_TRACK_NAME, track=6, channel=None, data=b'Copyright \\xa9 2004 by Bernd Kr\\xfcger'>; getting generic Instrument\n",
      "  warnings.warn(\n"
     ]
    },
    {
     "name": "stdout",
     "output_type": "stream",
     "text": [
      "Parsing classical_midi_data/liz_donjuan.mid\n",
      "Parsing classical_midi_data/chpn_op33_4.mid\n",
      "Parsing classical_midi_data/chpn_op53.mid\n"
     ]
    },
    {
     "name": "stderr",
     "output_type": "stream",
     "text": [
      "/Library/Frameworks/Python.framework/Versions/3.11/lib/python3.11/site-packages/music21/midi/translate.py:874: TranslateWarning: Unable to determine instrument from <music21.midi.MidiEvent SEQUENCE_TRACK_NAME, track=5, channel=None, data=b'Copyright \\xa9 1998 by Bernd Kr\\xfcger'>; getting generic Instrument\n",
      "  warnings.warn(\n"
     ]
    },
    {
     "name": "stdout",
     "output_type": "stream",
     "text": [
      "Parsing classical_midi_data/hay_40_1.mid\n",
      "Parsing classical_midi_data/haydn_9_2.mid\n",
      "Parsing classical_midi_data/beethoven_opus10_3.mid\n",
      "Parsing classical_midi_data/ty_maerz.mid\n"
     ]
    },
    {
     "name": "stderr",
     "output_type": "stream",
     "text": [
      "/Library/Frameworks/Python.framework/Versions/3.11/lib/python3.11/site-packages/music21/midi/translate.py:874: TranslateWarning: Unable to determine instrument from <music21.midi.MidiEvent SEQUENCE_TRACK_NAME, track=0, channel=None, data=b'F\\xfcr Elise'>; getting generic Instrument\n",
      "  warnings.warn(\n",
      "/Library/Frameworks/Python.framework/Versions/3.11/lib/python3.11/site-packages/music21/midi/translate.py:874: TranslateWarning: Unable to determine instrument from <music21.midi.MidiEvent SEQUENCE_TRACK_NAME, track=3, channel=None, data=b'Beethoven F\\xfcr Elise'>; getting generic Instrument\n",
      "  warnings.warn(\n"
     ]
    },
    {
     "name": "stdout",
     "output_type": "stream",
     "text": [
      "Parsing classical_midi_data/elise.mid\n",
      "Parsing classical_midi_data/scn15_9.mid\n",
      "Parsing classical_midi_data/schuim-1.mid\n",
      "Parsing classical_midi_data/chpn_op35_3.mid\n",
      "Parsing classical_midi_data/mendel_op62_4.mid\n",
      "Parsing classical_midi_data/chpn_op35_1.mid\n",
      "Parsing classical_midi_data/schuim-3.mid\n",
      "Parsing classical_midi_data/beethoven_opus10_1.mid\n",
      "Parsing classical_midi_data/chpn_op25_e2.mid\n",
      "Parsing classical_midi_data/hay_40_2.mid\n",
      "Parsing classical_midi_data/chpn_op25_e3.mid\n",
      "Parsing classical_midi_data/haydn_9_1.mid\n",
      "Parsing classical_midi_data/schuim-2.mid\n",
      "Parsing classical_midi_data/mendel_op62_5.mid\n"
     ]
    },
    {
     "name": "stderr",
     "output_type": "stream",
     "text": [
      "/Library/Frameworks/Python.framework/Versions/3.11/lib/python3.11/site-packages/music21/midi/translate.py:874: TranslateWarning: Unable to determine instrument from <music21.midi.MidiEvent SEQUENCE_TRACK_NAME, track=5, channel=None, data=b'Copyright \\xa9 2001 by Bernd Kr\\xfcger'>; getting generic Instrument\n",
      "  warnings.warn(\n"
     ]
    },
    {
     "name": "stdout",
     "output_type": "stream",
     "text": [
      "Parsing classical_midi_data/appass_2.mid\n"
     ]
    },
    {
     "name": "stderr",
     "output_type": "stream",
     "text": [
      "/Library/Frameworks/Python.framework/Versions/3.11/lib/python3.11/site-packages/music21/midi/translate.py:874: TranslateWarning: Unable to determine instrument from <music21.midi.MidiEvent SEQUENCE_TRACK_NAME, track=0, channel=None, data=b'Tr\\xe4umerei'>; getting generic Instrument\n",
      "  warnings.warn(\n"
     ]
    },
    {
     "name": "stdout",
     "output_type": "stream",
     "text": [
      "Parsing classical_midi_data/scn15_7.mid\n",
      "Parsing classical_midi_data/mendel_op53_5.mid\n",
      "Parsing classical_midi_data/mz_545_1.mid\n",
      "Parsing classical_midi_data/haydn_7_3.mid\n"
     ]
    },
    {
     "name": "stderr",
     "output_type": "stream",
     "text": [
      "/Library/Frameworks/Python.framework/Versions/3.11/lib/python3.11/site-packages/music21/midi/translate.py:874: TranslateWarning: Unable to determine instrument from <music21.midi.MidiEvent SEQUENCE_TRACK_NAME, track=5, channel=None, data=b'Copyright \\xa9 2006 by Bernd Kr\\xfcger'>; getting generic Instrument\n",
      "  warnings.warn(\n"
     ]
    },
    {
     "name": "stdout",
     "output_type": "stream",
     "text": [
      "Parsing classical_midi_data/mz_332_3.mid\n",
      "Parsing classical_midi_data/burg_spinnerlied.mid\n"
     ]
    },
    {
     "name": "stderr",
     "output_type": "stream",
     "text": [
      "/Library/Frameworks/Python.framework/Versions/3.11/lib/python3.11/site-packages/music21/midi/translate.py:874: TranslateWarning: Unable to determine instrument from <music21.midi.MidiEvent SEQUENCE_TRACK_NAME, track=5, channel=None, data=b'Copyright \\xa9 1997 by Bernd Kr\\xfcger'>; getting generic Instrument\n",
      "  warnings.warn(\n"
     ]
    },
    {
     "name": "stdout",
     "output_type": "stream",
     "text": [
      "Parsing classical_midi_data/mz_330_1.mid\n",
      "Parsing classical_midi_data/mz_332_2.mid\n",
      "Parsing classical_midi_data/haydn_7_2.mid\n"
     ]
    },
    {
     "name": "stderr",
     "output_type": "stream",
     "text": [
      "/Library/Frameworks/Python.framework/Versions/3.11/lib/python3.11/site-packages/music21/midi/translate.py:874: TranslateWarning: Unable to determine instrument from <music21.midi.MidiEvent SEQUENCE_TRACK_NAME, track=0, channel=None, data=b'Et\\xfcde Nr. 12'>; getting generic Instrument\n",
      "  warnings.warn(\n",
      "/Library/Frameworks/Python.framework/Versions/3.11/lib/python3.11/site-packages/music21/midi/translate.py:874: TranslateWarning: Unable to determine instrument from <music21.midi.MidiEvent SEQUENCE_TRACK_NAME, track=4, channel=None, data=b'Copyright \\xa9 1999 by Bernd Kr\\xfcger'>; getting generic Instrument\n",
      "  warnings.warn(\n"
     ]
    },
    {
     "name": "stdout",
     "output_type": "stream",
     "text": [
      "Parsing classical_midi_data/chpn_op10_e12.mid\n",
      "Parsing classical_midi_data/scn15_6.mid\n",
      "Parsing classical_midi_data/appass_3.mid\n",
      "Parsing classical_midi_data/appass_1.mid\n",
      "Parsing classical_midi_data/scn15_4.mid\n",
      "Parsing classical_midi_data/schubert_D850_4.mid\n",
      "Parsing classical_midi_data/mendel_op30_5.mid\n",
      "Parsing classical_midi_data/mz_545_2.mid\n",
      "Parsing classical_midi_data/mz_330_2.mid\n",
      "Parsing classical_midi_data/schubert_D935_4.mid\n",
      "Parsing classical_midi_data/mz_330_3.mid\n",
      "Parsing classical_midi_data/haydn_7_1.mid\n",
      "Parsing classical_midi_data/mz_332_1.mid\n",
      "Parsing classical_midi_data/mz_545_3.mid\n",
      "Parsing classical_midi_data/mendel_op30_4.mid\n"
     ]
    },
    {
     "name": "stderr",
     "output_type": "stream",
     "text": [
      "/Library/Frameworks/Python.framework/Versions/3.11/lib/python3.11/site-packages/music21/midi/translate.py:874: TranslateWarning: Unable to determine instrument from <music21.midi.MidiEvent SEQUENCE_TRACK_NAME, track=0, channel=None, data=b'Et\\xfcde Opus 10 No. 5'>; getting generic Instrument\n",
      "  warnings.warn(\n",
      "/Library/Frameworks/Python.framework/Versions/3.11/lib/python3.11/site-packages/music21/midi/translate.py:874: TranslateWarning: Unable to determine instrument from <music21.midi.MidiEvent SEQUENCE_TRACK_NAME, track=0, channel=None, data=b'Schwarze-Tasten-Et\\xfcde'>; getting generic Instrument\n",
      "  warnings.warn(\n"
     ]
    },
    {
     "name": "stdout",
     "output_type": "stream",
     "text": [
      "Parsing classical_midi_data/chpn_op10_e05.mid\n",
      "Parsing classical_midi_data/schub_d760_4.mid\n"
     ]
    },
    {
     "name": "stderr",
     "output_type": "stream",
     "text": [
      "/Library/Frameworks/Python.framework/Versions/3.11/lib/python3.11/site-packages/music21/midi/translate.py:874: TranslateWarning: Unable to determine instrument from <music21.midi.MidiEvent SEQUENCE_TRACK_NAME, track=0, channel=None, data=b'Gl\\xfcckes genug'>; getting generic Instrument\n",
      "  warnings.warn(\n"
     ]
    },
    {
     "name": "stdout",
     "output_type": "stream",
     "text": [
      "Parsing classical_midi_data/scn15_5.mid\n"
     ]
    },
    {
     "name": "stderr",
     "output_type": "stream",
     "text": [
      "/Library/Frameworks/Python.framework/Versions/3.11/lib/python3.11/site-packages/music21/midi/translate.py:874: TranslateWarning: Unable to determine instrument from <music21.midi.MidiEvent SEQUENCE_TRACK_NAME, track=0, channel=None, data=b'Von fremden L\\xe4ndern und Menschen'>; getting generic Instrument\n",
      "  warnings.warn(\n"
     ]
    },
    {
     "name": "stdout",
     "output_type": "stream",
     "text": [
      "Parsing classical_midi_data/scn15_1.mid\n",
      "Parsing classical_midi_data/beethoven_les_adieux_3.mid\n",
      "Parsing classical_midi_data/schubert_D850_1.mid\n",
      "Parsing classical_midi_data/chpn_op10_e01.mid\n"
     ]
    },
    {
     "name": "stderr",
     "output_type": "stream",
     "text": [
      "/Library/Frameworks/Python.framework/Versions/3.11/lib/python3.11/site-packages/music21/midi/translate.py:874: TranslateWarning: Unable to determine instrument from <music21.midi.MidiEvent SEQUENCE_TRACK_NAME, track=4, channel=None, data=b'Beethoven Sonata No. 8 C minor, Grand Sonate path\\xe9tique 1. Movement'>; getting generic Instrument\n",
      "  warnings.warn(\n"
     ]
    },
    {
     "name": "stdout",
     "output_type": "stream",
     "text": [
      "Parsing classical_midi_data/pathetique_1.mid\n",
      "Parsing classical_midi_data/schubert_D935_1.mid\n",
      "Parsing classical_midi_data/chpn_op66.mid\n",
      "Parsing classical_midi_data/mendel_op30_1.mid\n"
     ]
    },
    {
     "name": "stderr",
     "output_type": "stream",
     "text": [
      "/Library/Frameworks/Python.framework/Versions/3.11/lib/python3.11/site-packages/music21/midi/translate.py:874: TranslateWarning: Unable to determine instrument from <music21.midi.MidiEvent SEQUENCE_TRACK_NAME, track=0, channel=None, data=b'Mondscheinsonate; der Gr\\xe4fin Giulietta Guiccardi gewidmet'>; getting generic Instrument\n",
      "  warnings.warn(\n",
      "/Library/Frameworks/Python.framework/Versions/3.11/lib/python3.11/site-packages/music21/midi/translate.py:874: TranslateWarning: Unable to determine instrument from <music21.midi.MidiEvent SEQUENCE_TRACK_NAME, track=6, channel=None, data=b'Copyright \\xa9 1998 by Bernd Krueger'>; getting generic Instrument\n",
      "  warnings.warn(\n"
     ]
    },
    {
     "name": "stdout",
     "output_type": "stream",
     "text": [
      "Parsing classical_midi_data/mond_1.mid\n",
      "Parsing classical_midi_data/schub_d760_1.mid\n",
      "Parsing classical_midi_data/burg_geschwindigkeit.mid\n",
      "Parsing classical_midi_data/beethoven_les_adieux_2.mid\n",
      "Parsing classical_midi_data/ty_september.mid\n",
      "Parsing classical_midi_data/liz_liebestraum.mid\n",
      "Parsing classical_midi_data/scn15_2.mid\n",
      "Parsing classical_midi_data/schubert_D850_2.mid\n",
      "Parsing classical_midi_data/schub_d760_3.mid\n"
     ]
    },
    {
     "name": "stderr",
     "output_type": "stream",
     "text": [
      "/Library/Frameworks/Python.framework/Versions/3.11/lib/python3.11/site-packages/music21/midi/translate.py:874: TranslateWarning: Unable to determine instrument from <music21.midi.MidiEvent SEQUENCE_TRACK_NAME, track=5, channel=None, data=b'Copyright \\xa9 1998 by Bernd Krueger'>; getting generic Instrument\n",
      "  warnings.warn(\n"
     ]
    },
    {
     "name": "stdout",
     "output_type": "stream",
     "text": [
      "Parsing classical_midi_data/mond_3.mid\n",
      "Parsing classical_midi_data/mendel_op30_3.mid\n"
     ]
    },
    {
     "name": "stderr",
     "output_type": "stream",
     "text": [
      "/Library/Frameworks/Python.framework/Versions/3.11/lib/python3.11/site-packages/music21/midi/translate.py:874: TranslateWarning: Unable to determine instrument from <music21.midi.MidiEvent SEQUENCE_TRACK_NAME, track=6, channel=None, data=b'Beethoven Sonata No. 8 C minor, Grand Sonate path\\xe9tique 2. Movement'>; getting generic Instrument\n",
      "  warnings.warn(\n",
      "/Library/Frameworks/Python.framework/Versions/3.11/lib/python3.11/site-packages/music21/midi/translate.py:874: TranslateWarning: Unable to determine instrument from <music21.midi.MidiEvent SEQUENCE_TRACK_NAME, track=7, channel=None, data=b'Copyright \\xa9 2003 by Bernd Krueger'>; getting generic Instrument\n",
      "  warnings.warn(\n"
     ]
    },
    {
     "name": "stdout",
     "output_type": "stream",
     "text": [
      "Parsing classical_midi_data/pathetique_2.mid\n",
      "Parsing classical_midi_data/schubert_D935_2.mid\n",
      "Parsing classical_midi_data/schubert_D935_3.mid\n"
     ]
    },
    {
     "name": "stderr",
     "output_type": "stream",
     "text": [
      "/Library/Frameworks/Python.framework/Versions/3.11/lib/python3.11/site-packages/music21/midi/translate.py:874: TranslateWarning: Unable to determine instrument from <music21.midi.MidiEvent SEQUENCE_TRACK_NAME, track=4, channel=None, data=b'Beethoven Sonata No. 8 C minor, Grand Sonate path\\xe9tique 3. Movement'>; getting generic Instrument\n",
      "  warnings.warn(\n"
     ]
    },
    {
     "name": "stdout",
     "output_type": "stream",
     "text": [
      "Parsing classical_midi_data/pathetique_3.mid\n",
      "Parsing classical_midi_data/mendel_op30_2.mid\n"
     ]
    },
    {
     "name": "stderr",
     "output_type": "stream",
     "text": [
      "/Library/Frameworks/Python.framework/Versions/3.11/lib/python3.11/site-packages/music21/midi/translate.py:874: TranslateWarning: Unable to determine instrument from <music21.midi.MidiEvent SEQUENCE_TRACK_NAME, track=4, channel=None, data=b'Copyright \\xa9 1998 by Bernd Krueger'>; getting generic Instrument\n",
      "  warnings.warn(\n"
     ]
    },
    {
     "name": "stdout",
     "output_type": "stream",
     "text": [
      "Parsing classical_midi_data/mond_2.mid\n",
      "Parsing classical_midi_data/schubert_D850_3.mid\n",
      "Parsing classical_midi_data/schub_d760_2.mid\n",
      "Parsing classical_midi_data/beethoven_les_adieux_1.mid\n",
      "Parsing classical_midi_data/scn15_3.mid\n",
      "Parsing classical_midi_data/burg_gewitter.mid\n",
      "Parsing classical_midi_data/schu_143_2.mid\n",
      "Parsing classical_midi_data/haydn_33_1.mid\n",
      "Parsing classical_midi_data/mz_331_2.mid\n",
      "Parsing classical_midi_data/beethoven_opus22_1.mid\n",
      "Parsing classical_midi_data/alb_esp3.mid\n",
      "Parsing classical_midi_data/chpn-p10.mid\n",
      "Parsing classical_midi_data/chpn_op25_e12.mid\n",
      "Parsing classical_midi_data/alb_se4.mid\n",
      "Parsing classical_midi_data/chpn-p6.mid\n",
      "Parsing classical_midi_data/scn16_6.mid\n",
      "Parsing classical_midi_data/liz_et2.mid\n",
      "Parsing classical_midi_data/ty_mai.mid\n",
      "Parsing classical_midi_data/liz_et_trans5.mid\n",
      "Parsing classical_midi_data/liz_et_trans4.mid\n",
      "Parsing classical_midi_data/liz_et3.mid\n",
      "Parsing classical_midi_data/scn16_7.mid\n",
      "Parsing classical_midi_data/chpn-p7.mid\n",
      "Parsing classical_midi_data/alb_se5.mid\n",
      "Parsing classical_midi_data/debussy_cc_6.mid\n",
      "Parsing classical_midi_data/chpn-p11.mid\n",
      "Parsing classical_midi_data/alb_esp2.mid\n",
      "Parsing classical_midi_data/liz_rhap12.mid\n",
      "Parsing classical_midi_data/mz_333_1.mid\n",
      "Parsing classical_midi_data/mz_331_3.mid\n",
      "Parsing classical_midi_data/schu_143_3.mid\n"
     ]
    },
    {
     "name": "stderr",
     "output_type": "stream",
     "text": [
      "/Library/Frameworks/Python.framework/Versions/3.11/lib/python3.11/site-packages/music21/midi/translate.py:874: TranslateWarning: Unable to determine instrument from <music21.midi.MidiEvent SEQUENCE_TRACK_NAME, track=0, channel=None, data=b'Baba-Yaga  - Das gro\\xdfe Tor von Kiew'>; getting generic Instrument\n",
      "  warnings.warn(\n"
     ]
    },
    {
     "name": "stdout",
     "output_type": "stream",
     "text": [
      "Parsing classical_midi_data/muss_8.mid\n",
      "Parsing classical_midi_data/schu_143_1.mid\n",
      "Parsing classical_midi_data/haydn_33_2.mid\n",
      "Parsing classical_midi_data/mz_331_1.mid\n",
      "Parsing classical_midi_data/mz_333_3.mid\n",
      "Parsing classical_midi_data/beethoven_opus22_2.mid\n",
      "Parsing classical_midi_data/liz_rhap10.mid\n",
      "Parsing classical_midi_data/chpn-p13.mid\n",
      "Parsing classical_midi_data/debussy_cc_4.mid\n"
     ]
    },
    {
     "name": "stderr",
     "output_type": "stream",
     "text": [
      "/Library/Frameworks/Python.framework/Versions/3.11/lib/python3.11/site-packages/music21/midi/translate.py:874: TranslateWarning: Unable to determine instrument from <music21.midi.MidiEvent SEQUENCE_TRACK_NAME, track=0, channel=None, data=b'Et\\xfcde Opus 25, No. 11'>; getting generic Instrument\n",
      "  warnings.warn(\n",
      "/Library/Frameworks/Python.framework/Versions/3.11/lib/python3.11/site-packages/music21/midi/translate.py:874: TranslateWarning: Unable to determine instrument from <music21.midi.MidiEvent SEQUENCE_TRACK_NAME, track=0, channel=None, data=b'Sturmet\\xfcde'>; getting generic Instrument\n",
      "  warnings.warn(\n"
     ]
    },
    {
     "name": "stdout",
     "output_type": "stream",
     "text": [
      "Parsing classical_midi_data/chpn_op25_e11.mid\n",
      "Parsing classical_midi_data/chpn-p5.mid\n",
      "Parsing classical_midi_data/alb_se7.mid\n"
     ]
    },
    {
     "name": "stderr",
     "output_type": "stream",
     "text": [
      "/Library/Frameworks/Python.framework/Versions/3.11/lib/python3.11/site-packages/music21/midi/translate.py:874: TranslateWarning: Unable to determine instrument from <music21.midi.MidiEvent SEQUENCE_TRACK_NAME, track=4, channel=None, data=b'Copyright \\xa9 2012 by Bernd Kr\\xfcger'>; getting generic Instrument\n",
      "  warnings.warn(\n"
     ]
    },
    {
     "name": "stdout",
     "output_type": "stream",
     "text": [
      "Parsing classical_midi_data/burg_agitato.mid\n",
      "Parsing classical_midi_data/scn16_5.mid\n",
      "Parsing classical_midi_data/liz_et1.mid\n",
      "Parsing classical_midi_data/beethoven_hammerklavier_4.mid\n",
      "Parsing classical_midi_data/scn16_4.mid\n",
      "Parsing classical_midi_data/alb_se6.mid\n",
      "Parsing classical_midi_data/chpn-p4.mid\n",
      "Parsing classical_midi_data/deb_menu.mid\n",
      "Parsing classical_midi_data/chpn-p12.mid\n",
      "Parsing classical_midi_data/alb_esp1.mid\n",
      "Parsing classical_midi_data/mz_333_2.mid\n",
      "Parsing classical_midi_data/beethoven_opus22_3.mid\n",
      "Parsing classical_midi_data/haydn_33_3.mid\n",
      "Parsing classical_midi_data/alb_esp5.mid\n",
      "Parsing classical_midi_data/liz_rhap15.mid\n",
      "Parsing classical_midi_data/debussy_cc_1.mid\n",
      "Parsing classical_midi_data/chpn-p16.mid\n",
      "Parsing classical_midi_data/alb_se2.mid\n",
      "Parsing classical_midi_data/haydn_35_1.mid\n",
      "Parsing classical_midi_data/liz_et4.mid\n",
      "Parsing classical_midi_data/chpn_op27_2.mid\n",
      "Parsing classical_midi_data/mz_311_1.mid\n",
      "Parsing classical_midi_data/beethoven_hammerklavier_1.mid\n",
      "Parsing classical_midi_data/liz_et5.mid\n",
      "Parsing classical_midi_data/scn16_1.mid\n",
      "Parsing classical_midi_data/alb_se3.mid\n",
      "Parsing classical_midi_data/chpn-p1.mid\n",
      "Parsing classical_midi_data/chpn-p17.mid\n",
      "Parsing classical_midi_data/alb_esp4.mid\n",
      "Parsing classical_midi_data/liz_rhap02.mid\n",
      "Parsing classical_midi_data/alb_esp6.mid\n",
      "Parsing classical_midi_data/beethoven_opus22_4.mid\n",
      "Parsing classical_midi_data/debussy_cc_2.mid\n",
      "Parsing classical_midi_data/chpn-p15.mid\n",
      "Parsing classical_midi_data/alb_se1.mid\n",
      "Parsing classical_midi_data/chpn-p3.mid\n",
      "Parsing classical_midi_data/haydn_35_2.mid\n",
      "Parsing classical_midi_data/scn16_3.mid\n",
      "Parsing classical_midi_data/chpn_op27_1.mid\n",
      "Parsing classical_midi_data/mz_311_2.mid\n",
      "Parsing classical_midi_data/beethoven_hammerklavier_3.mid\n",
      "Parsing classical_midi_data/liz_et6.mid\n",
      "Parsing classical_midi_data/mz_311_3.mid\n",
      "Parsing classical_midi_data/burg_trennung.mid\n",
      "Parsing classical_midi_data/beethoven_hammerklavier_2.mid\n",
      "Parsing classical_midi_data/scn16_2.mid\n",
      "Parsing classical_midi_data/haydn_35_3.mid\n",
      "Parsing classical_midi_data/chpn-p2.mid\n",
      "Parsing classical_midi_data/chpn-p14.mid\n",
      "Parsing classical_midi_data/debussy_cc_3.mid\n"
     ]
    }
   ],
   "source": [
    "notes = get_notes()\n",
    "note_to_int = dict((note, number) for number, note in enumerate(sorted(set(notes))))"
   ]
  },
  {
   "cell_type": "code",
   "execution_count": 125,
   "metadata": {},
   "outputs": [],
   "source": [
    "class MusicDataset(Dataset):\n",
    "    def __init__(self, notes, sequence_length, n_vocab):\n",
    "        self.sequence_length = sequence_length\n",
    "        self.n_vocab = n_vocab\n",
    "\n",
    "        self.note_to_int = dict((note, number) for number, note in enumerate(sorted(set(notes))))\n",
    "        self.int_to_note = dict((number, note) for number, note in enumerate(sorted(set(notes))))\n",
    "\n",
    "        network_input = []\n",
    "        network_output = []\n",
    "\n",
    "        for i in range(0, len(notes) - sequence_length - 1):\n",
    "            sequence_in = notes[i:i + sequence_length]\n",
    "            sequence_out = notes[i + 1 : i + sequence_length + 1]\n",
    "            network_input.append([self.note_to_int[char] for char in sequence_in])\n",
    "            network_output.append([self.note_to_int[char] for char in sequence_out])\n",
    "        \n",
    "        self.network_input = torch.tensor(network_input, dtype=torch.long)\n",
    "        self.network_output = torch.tensor(network_output, dtype=torch.long)\n",
    "        \n",
    "        \n",
    "        self.network_input = nn.functional.one_hot(self.network_input, num_classes=n_vocab)\n",
    "        self.network_input = self.network_input.to(torch.float32)\n",
    "        self.network_output = nn.functional.one_hot(self.network_output, num_classes=n_vocab) #label\n",
    "        self.network_output = self.network_output.to(torch.float32)\n",
    "       \n",
    "        \n",
    "\n",
    "    def __len__(self):\n",
    "        return len(self.network_input)\n",
    "        \n",
    "    \n",
    "    def __getitem__(self, idx):\n",
    "        return self.network_input[idx], self.network_output[idx]\n",
    "\n",
    "class MusicLSTM(nn.Module):\n",
    "    def __init__(self, input_size, hidden_size, output_size):\n",
    "        super(MusicLSTM, self).__init__()\n",
    "        self.lstm1 = nn.LSTM(input_size, hidden_size, num_layers=1, batch_first=True, dropout=0.3)\n",
    "        #self.lstm2 = nn.LSTM(hidden_size, hidden_size, batch_first=True)\n",
    "        #self.lstm3 = nn.LSTM(hidden_size, hidden_size, batch_first=True)\n",
    "        l = 512\n",
    "        self.bn1 = nn.BatchNorm1d(l)\n",
    "        self.bn2 = nn.BatchNorm1d(l)\n",
    "        self.dropout = nn.Dropout(0.3)\n",
    "        self.fc = nn.Linear(input_size, output_size)\n",
    "        self.fc1 = nn.Linear(hidden_size, hidden_size)\n",
    "        self.fc2 = nn.Linear(hidden_size, output_size)\n",
    "        self.softmax = nn.Softmax(dim=-1)\n",
    "\n",
    "    def forward(self, x):\n",
    "        out, hidden = self.lstm1(x)\n",
    "        #print(\"ot,\", out.size())\n",
    "        out = self.bn1(out)\n",
    "        out = self.dropout(out)\n",
    "        out = self.fc1(out)\n",
    "        out = torch.relu(out)\n",
    "        out = self.bn2(out)\n",
    "        out = self.dropout(out)\n",
    "        out = self.fc2(out)\n",
    "        out = self.softmax(out)\n",
    "        return out"
   ]
  },
  {
   "cell_type": "code",
   "execution_count": 35,
   "metadata": {},
   "outputs": [],
   "source": [
    "def train(model, dataloader, loss_fn, optimizer):\n",
    "    \"\"\" train the neural network \"\"\"\n",
    "    path = 'model_weights_new.pt'\n",
    "    num_epochs = 100\n",
    "    for epoch in range(num_epochs):\n",
    "        running_loss = 0.0\n",
    "        min = 600\n",
    "        for inputs, labels in dataloader:\n",
    "            optimizer.zero_grad()\n",
    "            outputs = model.forward(inputs)\n",
    "            loss = loss_fn(outputs, labels)\n",
    "            loss.backward()\n",
    "            optimizer.step()\n",
    "            running_loss += loss.item()\n",
    "        print(f\"Epoch {epoch+1}, Loss: {running_loss}\")\n",
    "        if(epoch % 10 == 0 and loss < min):\n",
    "            torch.save(model, path)\n",
    "            min  = loss\n",
    "\n"
   ]
  },
  {
   "cell_type": "code",
   "execution_count": 4,
   "metadata": {},
   "outputs": [],
   "source": [
    "sequence_length = 10\n",
    "n_vocab = 222"
   ]
  },
  {
   "cell_type": "code",
   "execution_count": 38,
   "metadata": {},
   "outputs": [
    {
     "name": "stdout",
     "output_type": "stream",
     "text": [
      "222\n"
     ]
    }
   ],
   "source": [
    "n_vocab = len(set(notes))\n",
    "print(n_vocab)\n",
    "dataset = MusicDataset(notes, sequence_length, n_vocab)\n",
    "dataloader = DataLoader(dataset, batch_size=128, shuffle=True)\n",
    "int_to_note_dict = dataset.int_to_note\n"
   ]
  },
  {
   "cell_type": "code",
   "execution_count": null,
   "metadata": {},
   "outputs": [],
   "source": [
    "model = MusicLSTM(input_size=n_vocab, hidden_size=512, output_size=n_vocab)\n",
    "lossfn = nn.CrossEntropyLoss()\n",
    "optimizer = optim.RMSprop(model.parameters(), lr=0.0011)\n",
    "optimizer1 = optim.Adam(model.parameters(), lr=0.0001)\n",
    "train(model, dataloader, lossfn, optimizer)"
   ]
  },
  {
   "cell_type": "code",
   "execution_count": 3,
   "metadata": {},
   "outputs": [],
   "source": [
    "def generate_start_input(sequence_len):\n",
    "    np.random.seed()\n",
    "    rand = np.random.choice(np.arange(0, 157), size=sequence_len, replace=False)\n",
    "    seq_list = []\n",
    "    #print(notes[rand[0]])\n",
    "    #print(note_to_int)\n",
    "    for i in range(10): #len(rand)\n",
    "        seq_list.append(rand[i])\n",
    "    seq_tens = torch.tensor(seq_list)\n",
    "    seq_tens = torch.eye(n_vocab)[seq_tens]\n",
    "    seq_tens = dataset.network_input[rand[2],:]\n",
    "    return seq_tens"
   ]
  },
  {
   "cell_type": "code",
   "execution_count": 2,
   "metadata": {},
   "outputs": [],
   "source": [
    "def predict_with_model():\n",
    "    #path = 'model_weights.pt'\n",
    "    path =  'model_weights_new.pt'\n",
    "    model = torch.load(path)\n",
    "    model.eval()\n",
    "    num_notes = 5\n",
    "    start_seq = generate_start_input(sequence_length).unsqueeze(0)\n",
    "    pred_seq = start_seq.clone()\n",
    "    #out = model.forward(start_seq)\n",
    "    #print(out.size())\n",
    "    #print(out)\n",
    "    #print(\"numnote:\", num_notes)\n",
    "    #print(\"s\", ou.size())\n",
    "\n",
    "    for _ in range(num_notes):\n",
    "        out = model.forward(start_seq)\n",
    "        #print(\"iut\", start_seq.squeeze(0).size())\n",
    "        #print(\"iut\", out[-1][-2].unsqueeze(0).size())\n",
    "        start_seq = torch.cat((start_seq, out), 0)\n",
    "        # start_seq = torch.cat((start_seq.squeeze(0), out[-1][-2].unsqueeze(0)), 0)\n",
    "        # start_seq = torch.cat((start_seq.squeeze(0), out[-1][-1].unsqueeze(0)), 0)\n",
    "        # start_seq=start_seq.unsqueeze(0)\n",
    "    # for _ in range(num_notes):\n",
    "    #     out = model.forward(start_seq)\n",
    "    #     start_seq = torch.cat((start_seq, out), 0)\n",
    "\n",
    "        #print(\"i\", _)\n",
    "        #pred_seq = torch.cat((pred_seq, out), 0)\n",
    "        #print(\"sthart seq\", start_seq.size())\n",
    "    return start_seq"
   ]
  },
  {
   "cell_type": "code",
   "execution_count": 4,
   "metadata": {},
   "outputs": [],
   "source": [
    "# def prob_to_note(seq_tens):\n",
    "#     seq = []\n",
    "#     rows, _ = seq_tens.size()\n",
    "#     for i in range(rows):\n",
    "#         row = seq_tens[i, :] \n",
    "#         print(\"item\", int_to_note_dict[torch.argmax(row).item()])\n",
    "#         seq.append(int_to_note_dict[torch.argmax(row).item()])\n",
    "#         print(seq)\n",
    "#     #print(seq)\n",
    "#    return seq\n",
    "# def prob_to_note(seq_tens):\n",
    "#     seq = []\n",
    "#     rows,_ = seq_tens.size()\n",
    "#     print(\"rows\", rows)\n",
    "#     for i in range(rows):\n",
    "#         row = seq_tens[i, :] \n",
    "#         #print(\"item\", int_to_note_dict[torch.argmax(row).item()])\n",
    "#         # seq.append(int_to_note_dict[torch.argmax(row).item()])\n",
    "#         if(i > 0):\n",
    "#             print(\"seq\", seq[i-2], seq[i - 1],int_to_note_dict[torch.argmax(row).item()])\n",
    "#             print(\"tens\", torch.argmax(row).item())\n",
    "#             if seq[i - 2] == seq[i - 1] and seq[i - 1] == int_to_note_dict[torch.argmax(row).item()]:\n",
    "#                 #rand = np.random.choice(np.arange(0, 157), size=1, replace=False)\n",
    "#                 #print(\"otherh\", int_to_note_dict[rand.item()])\n",
    "#                 seq.append(int_to_note_dict[torch.topk(row, k=2)[1][1].item()])\n",
    "#             else:\n",
    "#                 seq.append(int_to_note_dict[torch.argmax(row).item()])\n",
    "#         else:\n",
    "#             seq.append(int_to_note_dict[torch.argmax(row).item()])\n",
    "\n",
    "#             print(\"aooendd\", int_to_note_dict[torch.argmax(row).item()])\n",
    "        \n",
    "#         #print(seq)\n",
    "#     #print(seq)\n",
    "#     return seq\n",
    "def prob_to_note(seq_tens):\n",
    "    seq = []\n",
    "    rows = seq_tens.size()[0]\n",
    "    vals = [i for i in range(n_vocab)]\n",
    "    for i in range(rows):\n",
    "        \n",
    "        row = seq_tens[i, :][0] \n",
    "        #print(\"row\", row.size())\n",
    "        #row  = torch.topk(row, k=5)[1]\n",
    "        #top_5 = torch.topk(row, k=8)[1]\n",
    "        #print(\"top5\", top_5)\n",
    "        #prob_dist = row[top_5].tolist()\n",
    "        prob_dist = row.tolist()\n",
    "        #print(\"e\", prob_dist)\n",
    "\n",
    "        #prob_dist = row.tolist()\n",
    "        #total = sum(prob_dist)\n",
    "\n",
    "        #normalization issues :skull:\n",
    "        #prob_dist= [val / total for val in prob_dist]\n",
    "        prob_dist = np.round(prob_dist, decimals=10)  \n",
    "        prob_dist = prob_dist / sum(prob_dist)\n",
    "        #prob_dist[-1] += 1 - sum(prob_dist)\n",
    "        #print(\"tt\",total)\n",
    "        if(sum(prob_dist) != 1.0):\n",
    "            #print(\"probdistsad\", sum(prob_dist),prob_dist)\n",
    "            rand = np.random.choice(vals)\n",
    "            rand = int_to_note_dict[rand]\n",
    "            seq.append(rand)\n",
    "            # if seq[i - 2] == seq[i - 1] and seq[i - 1] == int_to_note_dict[torch.argmax(row).item()]:\n",
    "            #     seq.append(int_to_note_dict[torch.topk(row, k=2)[1][1].item()])\n",
    "            # else:\n",
    "            #     seq.append(int_to_note_dict[torch.argmax(row).item()])\n",
    "       \n",
    "            continue\n",
    "        else:    \n",
    "        \n",
    "            #vals = [int_to_note_dict[top_5[idx].item()] for idx in range(8)]\n",
    "            #print(\"sisiei\", prob_dist)\n",
    "            rand = np.random.choice(vals, p = prob_dist)\n",
    "            rand = int_to_note_dict[rand]\n",
    "            seq.append(rand)\n",
    "            #print(int_to_note_dict[rand])\n",
    "            #seq.append(rand)\n",
    "    return seq\n"
   ]
  },
  {
   "cell_type": "code",
   "execution_count": 5,
   "metadata": {},
   "outputs": [],
   "source": [
    "def make_midi(prediction):\n",
    "    output = []\n",
    "    offset = 0\n",
    "    for n in prediction:\n",
    "        if('.' in n or n.isdigit()):\n",
    "            chord_list = n.split('.')\n",
    "            notes = []\n",
    "            for curr in chord_list:\n",
    "                newnote = note.Note(int(curr))\n",
    "                newnote.storedInstrument = instrument.Piano()\n",
    "                notes.append(newnote)\n",
    "            newchord = chord.Chord(notes)\n",
    "            newchord.offset =offset\n",
    "            output.append(newchord)\n",
    "        elif (n != ''):\n",
    "            newnote = note.Note(n)\n",
    "            newnote.offset = offset\n",
    "            newnote.storedInstrument = instrument.Piano()\n",
    "            output.append(newnote)\n",
    "        offset += 0.5\n",
    "    midistream = stream.Stream(output)\n",
    "    return midistream"
   ]
  },
  {
   "cell_type": "code",
   "execution_count": 6,
   "metadata": {},
   "outputs": [
    {
     "ename": "AttributeError",
     "evalue": "Can't get attribute 'MusicLSTM' on <module '__main__'>",
     "output_type": "error",
     "traceback": [
      "\u001b[0;31m---------------------------------------------------------------------------\u001b[0m",
      "\u001b[0;31mAttributeError\u001b[0m                            Traceback (most recent call last)",
      "Cell \u001b[0;32mIn[6], line 2\u001b[0m\n\u001b[1;32m      1\u001b[0m \u001b[38;5;66;03m## make the prediciton\u001b[39;00m\n\u001b[0;32m----> 2\u001b[0m seq \u001b[38;5;241m=\u001b[39m \u001b[43mpredict_with_model\u001b[49m\u001b[43m(\u001b[49m\u001b[43m)\u001b[49m\n",
      "Cell \u001b[0;32mIn[2], line 4\u001b[0m, in \u001b[0;36mpredict_with_model\u001b[0;34m()\u001b[0m\n\u001b[1;32m      1\u001b[0m \u001b[38;5;28;01mdef\u001b[39;00m \u001b[38;5;21mpredict_with_model\u001b[39m():\n\u001b[1;32m      2\u001b[0m     \u001b[38;5;66;03m#path = 'model_weights.pt'\u001b[39;00m\n\u001b[1;32m      3\u001b[0m     path \u001b[38;5;241m=\u001b[39m  \u001b[38;5;124m'\u001b[39m\u001b[38;5;124mmodel_weights_new.pt\u001b[39m\u001b[38;5;124m'\u001b[39m\n\u001b[0;32m----> 4\u001b[0m     model \u001b[38;5;241m=\u001b[39m \u001b[43mtorch\u001b[49m\u001b[38;5;241;43m.\u001b[39;49m\u001b[43mload\u001b[49m\u001b[43m(\u001b[49m\u001b[43mpath\u001b[49m\u001b[43m)\u001b[49m\n\u001b[1;32m      5\u001b[0m     model\u001b[38;5;241m.\u001b[39meval()\n\u001b[1;32m      6\u001b[0m     num_notes \u001b[38;5;241m=\u001b[39m \u001b[38;5;241m5\u001b[39m\n",
      "File \u001b[0;32m/Library/Frameworks/Python.framework/Versions/3.11/lib/python3.11/site-packages/torch/serialization.py:1014\u001b[0m, in \u001b[0;36mload\u001b[0;34m(f, map_location, pickle_module, weights_only, mmap, **pickle_load_args)\u001b[0m\n\u001b[1;32m   1012\u001b[0m             \u001b[38;5;28;01mexcept\u001b[39;00m \u001b[38;5;167;01mRuntimeError\u001b[39;00m \u001b[38;5;28;01mas\u001b[39;00m e:\n\u001b[1;32m   1013\u001b[0m                 \u001b[38;5;28;01mraise\u001b[39;00m pickle\u001b[38;5;241m.\u001b[39mUnpicklingError(UNSAFE_MESSAGE \u001b[38;5;241m+\u001b[39m \u001b[38;5;28mstr\u001b[39m(e)) \u001b[38;5;28;01mfrom\u001b[39;00m \u001b[38;5;28;01mNone\u001b[39;00m\n\u001b[0;32m-> 1014\u001b[0m         \u001b[38;5;28;01mreturn\u001b[39;00m \u001b[43m_load\u001b[49m\u001b[43m(\u001b[49m\u001b[43mopened_zipfile\u001b[49m\u001b[43m,\u001b[49m\n\u001b[1;32m   1015\u001b[0m \u001b[43m                     \u001b[49m\u001b[43mmap_location\u001b[49m\u001b[43m,\u001b[49m\n\u001b[1;32m   1016\u001b[0m \u001b[43m                     \u001b[49m\u001b[43mpickle_module\u001b[49m\u001b[43m,\u001b[49m\n\u001b[1;32m   1017\u001b[0m \u001b[43m                     \u001b[49m\u001b[43moverall_storage\u001b[49m\u001b[38;5;241;43m=\u001b[39;49m\u001b[43moverall_storage\u001b[49m\u001b[43m,\u001b[49m\n\u001b[1;32m   1018\u001b[0m \u001b[43m                     \u001b[49m\u001b[38;5;241;43m*\u001b[39;49m\u001b[38;5;241;43m*\u001b[39;49m\u001b[43mpickle_load_args\u001b[49m\u001b[43m)\u001b[49m\n\u001b[1;32m   1019\u001b[0m \u001b[38;5;28;01mif\u001b[39;00m mmap:\n\u001b[1;32m   1020\u001b[0m     \u001b[38;5;28;01mraise\u001b[39;00m \u001b[38;5;167;01mRuntimeError\u001b[39;00m(\u001b[38;5;124m\"\u001b[39m\u001b[38;5;124mmmap can only be used with files saved with \u001b[39m\u001b[38;5;124m\"\u001b[39m,\n\u001b[1;32m   1021\u001b[0m                        \u001b[38;5;124m\"\u001b[39m\u001b[38;5;124m`torch.save(_use_new_zipfile_serialization=True), \u001b[39m\u001b[38;5;124m\"\u001b[39m\n\u001b[1;32m   1022\u001b[0m                        \u001b[38;5;124m\"\u001b[39m\u001b[38;5;124mplease torch.save your checkpoint with this option in order to use mmap.\u001b[39m\u001b[38;5;124m\"\u001b[39m)\n",
      "File \u001b[0;32m/Library/Frameworks/Python.framework/Versions/3.11/lib/python3.11/site-packages/torch/serialization.py:1422\u001b[0m, in \u001b[0;36m_load\u001b[0;34m(zip_file, map_location, pickle_module, pickle_file, overall_storage, **pickle_load_args)\u001b[0m\n\u001b[1;32m   1420\u001b[0m unpickler \u001b[38;5;241m=\u001b[39m UnpicklerWrapper(data_file, \u001b[38;5;241m*\u001b[39m\u001b[38;5;241m*\u001b[39mpickle_load_args)\n\u001b[1;32m   1421\u001b[0m unpickler\u001b[38;5;241m.\u001b[39mpersistent_load \u001b[38;5;241m=\u001b[39m persistent_load\n\u001b[0;32m-> 1422\u001b[0m result \u001b[38;5;241m=\u001b[39m \u001b[43munpickler\u001b[49m\u001b[38;5;241;43m.\u001b[39;49m\u001b[43mload\u001b[49m\u001b[43m(\u001b[49m\u001b[43m)\u001b[49m\n\u001b[1;32m   1424\u001b[0m torch\u001b[38;5;241m.\u001b[39m_utils\u001b[38;5;241m.\u001b[39m_validate_loaded_sparse_tensors()\n\u001b[1;32m   1425\u001b[0m torch\u001b[38;5;241m.\u001b[39m_C\u001b[38;5;241m.\u001b[39m_log_api_usage_metadata(\n\u001b[1;32m   1426\u001b[0m     \u001b[38;5;124m\"\u001b[39m\u001b[38;5;124mtorch.load.metadata\u001b[39m\u001b[38;5;124m\"\u001b[39m, {\u001b[38;5;124m\"\u001b[39m\u001b[38;5;124mserialization_id\u001b[39m\u001b[38;5;124m\"\u001b[39m: zip_file\u001b[38;5;241m.\u001b[39mserialization_id()}\n\u001b[1;32m   1427\u001b[0m )\n",
      "File \u001b[0;32m/Library/Frameworks/Python.framework/Versions/3.11/lib/python3.11/site-packages/torch/serialization.py:1415\u001b[0m, in \u001b[0;36m_load.<locals>.UnpicklerWrapper.find_class\u001b[0;34m(self, mod_name, name)\u001b[0m\n\u001b[1;32m   1413\u001b[0m         \u001b[38;5;28;01mpass\u001b[39;00m\n\u001b[1;32m   1414\u001b[0m mod_name \u001b[38;5;241m=\u001b[39m load_module_mapping\u001b[38;5;241m.\u001b[39mget(mod_name, mod_name)\n\u001b[0;32m-> 1415\u001b[0m \u001b[38;5;28;01mreturn\u001b[39;00m \u001b[38;5;28;43msuper\u001b[39;49m\u001b[43m(\u001b[49m\u001b[43m)\u001b[49m\u001b[38;5;241;43m.\u001b[39;49m\u001b[43mfind_class\u001b[49m\u001b[43m(\u001b[49m\u001b[43mmod_name\u001b[49m\u001b[43m,\u001b[49m\u001b[43m \u001b[49m\u001b[43mname\u001b[49m\u001b[43m)\u001b[49m\n",
      "\u001b[0;31mAttributeError\u001b[0m: Can't get attribute 'MusicLSTM' on <module '__main__'>"
     ]
    }
   ],
   "source": [
    "## make the prediciton\n",
    "seq = predict_with_model()"
   ]
  },
  {
   "cell_type": "code",
   "execution_count": 7,
   "metadata": {},
   "outputs": [
    {
     "ename": "NameError",
     "evalue": "name 'seq' is not defined",
     "output_type": "error",
     "traceback": [
      "\u001b[0;31m---------------------------------------------------------------------------\u001b[0m",
      "\u001b[0;31mNameError\u001b[0m                                 Traceback (most recent call last)",
      "Cell \u001b[0;32mIn[7], line 2\u001b[0m\n\u001b[1;32m      1\u001b[0m \u001b[38;5;66;03m#print(prob_to_note(seq))\u001b[39;00m\n\u001b[0;32m----> 2\u001b[0m prediction  \u001b[38;5;241m=\u001b[39m prob_to_note(\u001b[43mseq\u001b[49m)\n\u001b[1;32m      3\u001b[0m midistream \u001b[38;5;241m=\u001b[39m make_midi(prediction)\n\u001b[1;32m      4\u001b[0m midistream\u001b[38;5;241m.\u001b[39mwrite(\u001b[38;5;124m'\u001b[39m\u001b[38;5;124mmidi\u001b[39m\u001b[38;5;124m'\u001b[39m, fp\u001b[38;5;241m=\u001b[39m\u001b[38;5;124m'\u001b[39m\u001b[38;5;124mpred_test4.mid\u001b[39m\u001b[38;5;124m'\u001b[39m)\n",
      "\u001b[0;31mNameError\u001b[0m: name 'seq' is not defined"
     ]
    }
   ],
   "source": [
    "#print(prob_to_note(seq))\n",
    "prediction  = prob_to_note(seq)\n",
    "midistream = make_midi(prediction)\n",
    "midistream.write('midi', fp='pred_test4.mid')"
   ]
  },
  {
   "cell_type": "code",
   "execution_count": 8,
   "metadata": {},
   "outputs": [],
   "source": [
    "def play_midi(midi_file):\n",
    "    pygame.mixer.init()\n",
    "    pygame.mixer.music.load(midi_file)\n",
    "    pygame.mixer.music.play()\n",
    "    while pygame.mixer.music.get_busy():\n",
    "        continue"
   ]
  },
  {
   "cell_type": "code",
   "execution_count": 9,
   "metadata": {},
   "outputs": [],
   "source": [
    "##end up converging to 1 note when using argmax:\n",
    "play_midi('pred.mid')\n",
    "#play_midi('pred1.mid')\n",
    "#play_midi('pred2.mid')"
   ]
  },
  {
   "cell_type": "code",
   "execution_count": 7,
   "metadata": {},
   "outputs": [],
   "source": [
    "#probability distribution\n",
    "\n",
    "#play_midi('pred3.mid')\n",
    "play_midi('pred3.5.mid')"
   ]
  },
  {
   "cell_type": "code",
   "execution_count": 10,
   "metadata": {},
   "outputs": [],
   "source": [
    "##current\n",
    "#play_midi('pred_test.mid')\n",
    "#play_midi('pred_test1.mid')\n",
    "#play_midi('pred_test2.mid')\n",
    "play_midi('pred_test3.mid') # <3 this one sounds better than some of the others :)\n",
    "#play_midi('pred_test4.mid')\n",
    "#play_midi('pred_test5.mid')"
   ]
  }
 ],
 "metadata": {
  "kernelspec": {
   "display_name": "Python 3",
   "language": "python",
   "name": "python3"
  },
  "language_info": {
   "codemirror_mode": {
    "name": "ipython",
    "version": 3
   },
   "file_extension": ".py",
   "mimetype": "text/x-python",
   "name": "python",
   "nbconvert_exporter": "python",
   "pygments_lexer": "ipython3",
   "version": "3.11.7"
  }
 },
 "nbformat": 4,
 "nbformat_minor": 2
}
